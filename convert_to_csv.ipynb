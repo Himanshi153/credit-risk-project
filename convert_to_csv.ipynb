{
 "cells": [
  {
   "cell_type": "code",
   "execution_count": 1,
   "id": "00190e57-2dce-45e8-9684-289d5574f0cf",
   "metadata": {},
   "outputs": [
    {
     "name": "stdout",
     "output_type": "stream",
     "text": [
      "✅ CSV file saved successfully!\n"
     ]
    }
   ],
   "source": [
    "import pandas as pd\n",
    "\n",
    "# Column names from german.doc\n",
    "columns = [\n",
    "    \"Status_Checking_Acc\", \"Duration\", \"Credit_History\", \"Purpose\", \"Credit_Amount\",\n",
    "    \"Savings\", \"Employment_Since\", \"Installment_Rate\", \"Personal_Status_Sex\",\n",
    "    \"Other_Debtors\", \"Residence_Since\", \"Property\", \"Age\", \"Other_Installment_Plans\",\n",
    "    \"Housing\", \"Number_Credits\", \"Job\", \"Liable_People\", \"Telephone\", \"Foreign_Worker\", \"Target\"\n",
    "]\n",
    "\n",
    "# Try-Except block to catch error\n",
    "try:\n",
    "    df = pd.read_csv(\"german.data\", sep=' ', header=None, names=columns)\n",
    "    df.to_csv(\"german.csv\", index=False)\n",
    "    print(\"✅ CSV file saved successfully!\")\n",
    "\n",
    "except FileNotFoundError:\n",
    "    print(\"🚫 Error: 'german.data' file not found in this folder. Please check the location.\")\n",
    "\n",
    "except Exception as e:\n",
    "    print(\"❌ Something went wrong:\", e)\n"
   ]
  },
  {
   "cell_type": "code",
   "execution_count": null,
   "id": "c749c1fc-786c-4dc5-8a02-708d6803e9a2",
   "metadata": {},
   "outputs": [],
   "source": []
  }
 ],
 "metadata": {
  "kernelspec": {
   "display_name": "Python 3 (ipykernel)",
   "language": "python",
   "name": "python3"
  },
  "language_info": {
   "codemirror_mode": {
    "name": "ipython",
    "version": 3
   },
   "file_extension": ".py",
   "mimetype": "text/x-python",
   "name": "python",
   "nbconvert_exporter": "python",
   "pygments_lexer": "ipython3",
   "version": "3.12.7"
  }
 },
 "nbformat": 4,
 "nbformat_minor": 5
}
